{
 "cells": [
  {
   "cell_type": "markdown",
   "id": "aaaaacb7-7cff-4611-bcc0-8097c7cfd08b",
   "metadata": {},
   "source": [
    "# Module 1. Basic Usage\n",
    "---\n",
    "\n",
    "### AWS Chalice란?\n",
    "Chalice는 AWS의 오픈 소스 서버리스 프레임워크로 빠르고 쉽게 서버리스 어플리케이션을 구축할 수 있습니다.\n",
    "Flask 스타일의 마이크로 웹 프레임워크를 기반으로 하고 있으며, 자동으로 AWS Lambda 함수를 생성하고 API Gateway 엔드포인트를 구성해 줍니다.\n",
    "또한 Amazon DynamoDB, Amazon S3, SQS, SNS 등과 같은 서비스의 통합도 지원하기에 ML엔지니어나 개발자들이 핵심 로직 개발에 집중할 수 있습니다.\n",
    "\n",
    "## Hello world"
   ]
  },
  {
   "cell_type": "code",
   "execution_count": 65,
   "id": "f47d26b5-788e-4279-974c-a2cf19b409f6",
   "metadata": {},
   "outputs": [],
   "source": [
    "# !pip install chalice\n",
    "# !sudo yum -y install tree"
   ]
  },
  {
   "cell_type": "code",
   "execution_count": 53,
   "id": "056e2943-5e11-4309-9601-e33bcb23fd64",
   "metadata": {},
   "outputs": [
    {
     "name": "stdout",
     "output_type": "stream",
     "text": [
      "Your project has been generated in ./hello-world\n"
     ]
    }
   ],
   "source": [
    "PROJECT = \"hello-world\"\n",
    "!rm -rf $PROJECT\n",
    "!chalice new-project $PROJECT"
   ]
  },
  {
   "cell_type": "code",
   "execution_count": 49,
   "id": "5d347c6f-9f44-4357-9c9b-a4e8456bf6a4",
   "metadata": {},
   "outputs": [
    {
     "name": "stdout",
     "output_type": "stream",
     "text": [
      "app.py\t__pycache__  requirements.txt\n"
     ]
    }
   ],
   "source": [
    "!ls $PROJECT"
   ]
  },
  {
   "cell_type": "code",
   "execution_count": 54,
   "id": "4a277a8e-2e4c-41e6-92b6-14e22fe2e828",
   "metadata": {},
   "outputs": [
    {
     "name": "stdout",
     "output_type": "stream",
     "text": [
      "hello-world/.\n",
      "├── app.py\n",
      "├── .chalice\n",
      "│   └── config.json\n",
      "├── .gitignore\n",
      "└── requirements.txt\n",
      "\n",
      "1 directory, 4 files\n"
     ]
    }
   ],
   "source": [
    "!tree -a $PROJECT/."
   ]
  },
  {
   "cell_type": "code",
   "execution_count": 55,
   "id": "6c8e5946-bedc-4cb5-a377-f5a4a29741a1",
   "metadata": {},
   "outputs": [
    {
     "name": "stdout",
     "output_type": "stream",
     "text": [
      "from chalice import Chalice\n",
      "\n",
      "app = Chalice(app_name='hello-world')\n",
      "\n",
      "\n",
      "@app.route('/')\n",
      "def index():\n",
      "    return {'hello': 'world'}\n",
      "\n",
      "\n",
      "# The view function above will return {\"hello\": \"world\"}\n",
      "# whenever you make an HTTP GET request to '/'.\n",
      "#\n",
      "# Here are a few more examples:\n",
      "#\n",
      "# @app.route('/hello/{name}')\n",
      "# def hello_name(name):\n",
      "#    # '/hello/james' -> {\"hello\": \"james\"}\n",
      "#    return {'hello': name}\n",
      "#\n",
      "# @app.route('/users', methods=['POST'])\n",
      "# def create_user():\n",
      "#     # This is the JSON body the user sent in their POST request.\n",
      "#     user_as_json = app.current_request.json_body\n",
      "#     # We'll echo the json body back to the user in a 'user' key.\n",
      "#     return {'user': user_as_json}\n",
      "#\n",
      "# See the README documentation for more examples.\n",
      "#\n"
     ]
    }
   ],
   "source": [
    "!cat $PROJECT/app.py"
   ]
  },
  {
   "cell_type": "code",
   "execution_count": 56,
   "id": "b6e2447e-a74e-4ce7-a466-fa10a919d31a",
   "metadata": {},
   "outputs": [
    {
     "name": "stdout",
     "output_type": "stream",
     "text": [
      "Restarting local dev server.\n",
      "Serving on http://127.0.0.1:8100\n",
      "127.0.0.1 - - [14/Mar/2023 07:43:10] \"GET / HTTP/1.1\" 200 -\n",
      "127.0.0.1 - - [14/Mar/2023 07:43:14] \"GET / HTTP/1.1\" 200 -\n",
      "^C\n"
     ]
    }
   ],
   "source": [
    "!cd $PROJECT && chalice local --port=8100"
   ]
  },
  {
   "cell_type": "code",
   "execution_count": 14,
   "id": "e91228dd-0890-4782-a2f9-0a8997bd6217",
   "metadata": {},
   "outputs": [],
   "source": [
    "# curl localhost:8100"
   ]
  },
  {
   "cell_type": "markdown",
   "id": "abf0c237-122e-4849-a869-cba8d53d0bbb",
   "metadata": {},
   "source": [
    "## Hello, [YOUR_NAME]"
   ]
  },
  {
   "cell_type": "code",
   "execution_count": 57,
   "id": "21a399b0-6ea5-4df3-ab4f-3d524c6fcb57",
   "metadata": {},
   "outputs": [
    {
     "name": "stdout",
     "output_type": "stream",
     "text": [
      "Overwriting hello-world/app.py\n"
     ]
    }
   ],
   "source": [
    "%%writefile $PROJECT/app.py\n",
    "\n",
    "from chalice import Chalice\n",
    "app = Chalice(app_name='hello-world')\n",
    "\n",
    "@app.route('/')\n",
    "def index():\n",
    "    return {'hello': 'world'}\n",
    "\n",
    "@app.route('/your_name/{name}')\n",
    "def index(name):\n",
    "    return {'hello': name}\n",
    "\n",
    "@app.schedule(Rate(5, unit=Rate.MINUTES))\n",
    "def periodic_task(event):\n",
    "    print(f\"{datetime.now()}: I'm running!\")\n"
   ]
  },
  {
   "cell_type": "code",
   "execution_count": 58,
   "id": "ca856073-bc5a-4baf-a818-70dcedc14225",
   "metadata": {},
   "outputs": [
    {
     "name": "stdout",
     "output_type": "stream",
     "text": [
      "Restarting local dev server.\n",
      "Serving on http://127.0.0.1:8100\n",
      "127.0.0.1 - - [14/Mar/2023 07:44:41] \"GET /your_name/daekeun HTTP/1.1\" 200 -\n",
      "127.0.0.1 - - [14/Mar/2023 07:44:45] \"GET /your_name/gildong HTTP/1.1\" 200 -\n",
      "^C\n"
     ]
    }
   ],
   "source": [
    "!cd $PROJECT && chalice local --port=8100"
   ]
  },
  {
   "cell_type": "code",
   "execution_count": 17,
   "id": "eb7d2e97-ea66-4ea1-adb7-c1e2c2e3ba96",
   "metadata": {},
   "outputs": [],
   "source": [
    "# curl localhost:8100/your_name/daekeun\n",
    "# curl localhost:8100/your_name/gildong"
   ]
  },
  {
   "cell_type": "code",
   "execution_count": 59,
   "id": "4fc761d2-5f36-45ed-afce-e1d5e021ef4a",
   "metadata": {},
   "outputs": [
    {
     "name": "stdout",
     "output_type": "stream",
     "text": [
      "Creating deployment package.\n",
      "Creating IAM role: hello-world-dev\n",
      "Creating lambda function: hello-world-dev\n",
      "Creating Rest API\n",
      "Resources deployed:\n",
      "  - Lambda ARN: arn:aws:lambda:us-east-1:143656149352:function:hello-world-dev\n",
      "  - Rest API URL: https://e91nwvq7rc.execute-api.us-east-1.amazonaws.com/api/\n"
     ]
    }
   ],
   "source": [
    "!cd $PROJECT && chalice deploy"
   ]
  },
  {
   "cell_type": "markdown",
   "id": "977deb91-35c6-41e9-83de-bdb27c544b65",
   "metadata": {},
   "source": [
    "You now have an API up and running using API Gateway and Lambda:"
   ]
  },
  {
   "cell_type": "code",
   "execution_count": 60,
   "id": "d46db248-1fa8-486a-98c3-1efd69286304",
   "metadata": {},
   "outputs": [],
   "source": [
    "response = client.get_rest_apis(limit=2)"
   ]
  },
  {
   "cell_type": "code",
   "execution_count": 61,
   "id": "d32cf9c7-b8a7-4928-a561-c04970110a93",
   "metadata": {},
   "outputs": [
    {
     "data": {
      "text/html": [
       "<a target='blank' href=https://e91nwvq7rc.execute-api.us-east-1.amazonaws.com/api/your_name/gildong>https://e91nwvq7rc.execute-api.us-east-1.amazonaws.com/api/your_name/gildong</a>"
      ],
      "text/plain": [
       "<IPython.core.display.HTML object>"
      ]
     },
     "metadata": {},
     "output_type": "display_data"
    },
    {
     "data": {
      "text/html": [
       "<a target='blank' href=https://e91nwvq7rc.execute-api.us-east-1.amazonaws.com/api/your_name/daekeun>https://e91nwvq7rc.execute-api.us-east-1.amazonaws.com/api/your_name/daekeun</a>"
      ],
      "text/plain": [
       "<IPython.core.display.HTML object>"
      ]
     },
     "metadata": {},
     "output_type": "display_data"
    }
   ],
   "source": [
    "from IPython.core.display import display, HTML\n",
    "import boto3\n",
    "client = boto3.client('apigateway')\n",
    "\n",
    "def make_console_link(region, restapi_id, prefix=None):\n",
    "    url = f\"https://{restapi_id}.execute-api.{region}.amazonaws.com/api/\"\n",
    "    if prefix is not None:\n",
    "        url += prefix\n",
    "    link = f\"<a target='blank' href={url}>{url}</a>\"\n",
    "    return link  \n",
    "\n",
    "region = boto3.Session().region_name\n",
    "response = client.get_rest_apis(limit=2)\n",
    "restapi_id = response['items'][0]['id']\n",
    "\n",
    "url = make_console_link(region, restapi_id, \"your_name/gildong\")\n",
    "display(HTML(url))\n",
    "\n",
    "url = make_console_link(region, restapi_id, \"your_name/daekeun\")\n",
    "display(HTML(url))"
   ]
  },
  {
   "cell_type": "code",
   "execution_count": 62,
   "id": "bb4ae326-6282-41da-bc53-e15c1855eb44",
   "metadata": {},
   "outputs": [
    {
     "name": "stdout",
     "output_type": "stream",
     "text": [
      "Deleting Rest API: e91nwvq7rc\n",
      "Deleting function: arn:aws:lambda:us-east-1:143656149352:function:hello-world-dev\n",
      "Deleting IAM role: hello-world-dev\n"
     ]
    }
   ],
   "source": [
    "!cd $PROJECT && chalice delete"
   ]
  }
 ],
 "metadata": {
  "kernelspec": {
   "display_name": "conda_python3",
   "language": "python",
   "name": "conda_python3"
  },
  "language_info": {
   "codemirror_mode": {
    "name": "ipython",
    "version": 3
   },
   "file_extension": ".py",
   "mimetype": "text/x-python",
   "name": "python",
   "nbconvert_exporter": "python",
   "pygments_lexer": "ipython3",
   "version": "3.8.12"
  }
 },
 "nbformat": 4,
 "nbformat_minor": 5
}
