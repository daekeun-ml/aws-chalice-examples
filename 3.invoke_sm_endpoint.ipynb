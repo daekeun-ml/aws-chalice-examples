{
 "cells": [
  {
   "cell_type": "markdown",
   "id": "7622786b-8e91-4039-aecb-ea168663ce81",
   "metadata": {},
   "source": [
    "# Module 3. Invoke SageMaker Endpoint\n",
    "---\n",
    "\n",
    "SageMaker 엔드포인트가 구성되었다고 가정합니다. 아래 코드는 참고용으로만 확인하세요."
   ]
  },
  {
   "cell_type": "code",
   "execution_count": 47,
   "id": "27bf8b4d-5c1c-49fa-8a12-2456c0ed935c",
   "metadata": {},
   "outputs": [
    {
     "name": "stdout",
     "output_type": "stream",
     "text": [
      "Your project has been generated in ./amzn-reviews\n"
     ]
    }
   ],
   "source": [
    "PROJECT = \"amzn-reviews\"\n",
    "!rm -rf $PROJECT\n",
    "!chalice new-project $PROJECT"
   ]
  },
  {
   "cell_type": "code",
   "execution_count": 48,
   "id": "c7a49f1d-faeb-4176-bfa7-ab0a10cb3281",
   "metadata": {},
   "outputs": [
    {
     "name": "stdout",
     "output_type": "stream",
     "text": [
      "{\n",
      "  \"version\": \"2.0\",\n",
      "  \"app_name\": \"amzn-reviews\",\n",
      "  \"stages\": {\n",
      "    \"dev\": {\n",
      "      \"api_gateway_stage\": \"api\"\n",
      "    }\n",
      "  }\n",
      "}\n"
     ]
    }
   ],
   "source": [
    "cat $PROJECT/.chalice/config.json"
   ]
  },
  {
   "cell_type": "code",
   "execution_count": 49,
   "id": "cf5b3783-deb8-4ddd-b24f-037c66d9174c",
   "metadata": {},
   "outputs": [
    {
     "name": "stdout",
     "output_type": "stream",
     "text": [
      "amzn-reviews/.\n",
      "├── app.py\n",
      "├── .chalice\n",
      "│   └── config.json\n",
      "├── .gitignore\n",
      "└── requirements.txt\n",
      "\n",
      "1 directory, 4 files\n"
     ]
    }
   ],
   "source": [
    "!tree -a $PROJECT/."
   ]
  },
  {
   "cell_type": "code",
   "execution_count": 50,
   "id": "d1cff6e8-5f9f-4fcf-a29a-e32faf24d694",
   "metadata": {},
   "outputs": [
    {
     "name": "stdout",
     "output_type": "stream",
     "text": [
      "Stored variables and their in-db values:\n",
      "challenger_model_artifact                    -> 's3://sagemaker-us-east-1-143656149352/mab-reviews\n",
      "champion_model_artifact                      -> 's3://sagemaker-us-east-1-143656149352/mab-reviews\n",
      "endpoint_name                                -> 'MAP-Inference-Endpoint-2023-03-14-02-56-51'\n",
      "model_train_inference_docker_uri             -> '811284229777.dkr.ecr.us-east-1.amazonaws.com/blaz\n"
     ]
    }
   ],
   "source": [
    "%store -r\n",
    "%store"
   ]
  },
  {
   "cell_type": "code",
   "execution_count": 51,
   "id": "3ecdd505-9e30-4ca4-a447-facd38c354df",
   "metadata": {},
   "outputs": [
    {
     "data": {
      "text/plain": [
       "'MAP-Inference-Endpoint-2023-03-14-02-56-51'"
      ]
     },
     "execution_count": 51,
     "metadata": {},
     "output_type": "execute_result"
    }
   ],
   "source": [
    "endpoint_name"
   ]
  },
  {
   "cell_type": "code",
   "execution_count": 52,
   "id": "fe2b117f-203e-4796-a933-cfa6630dfbe4",
   "metadata": {},
   "outputs": [
    {
     "name": "stdout",
     "output_type": "stream",
     "text": [
      "{\n",
      "  \"version\": \"2.0\",\n",
      "  \"app_name\": \"amzn-reviews\",\n",
      "  \"stages\": {\n",
      "    \"dev\": {\n",
      "      \"api_gateway_stage\": \"api\"\n",
      "    }\n",
      "  }\n",
      "}\n"
     ]
    }
   ],
   "source": [
    "cat $PROJECT/.chalice/config.json"
   ]
  },
  {
   "cell_type": "markdown",
   "id": "d680c68f-b01e-4297-941e-df07a3be3ca0",
   "metadata": {},
   "source": [
    "#### Setup config.json\n",
    "Chalice는 IAM 정책 자동 생성 기능이 있지만, 필요한 정책을 가진 IAM 정책을 생성할수 있습니다. 기본적으로는 직접 IAM 정책을 생성하는 것이 안전합니다. <br>\n",
    "자세한 내용은 https://chalice-fei.readthedocs.io/en/latest/topics/configfile.html 를 참조하기 바랍니다.\n",
    "\n",
    "`autogen_policy`: \n",
    "- 애플리케이션 소스 코드 분석을 기반으로 chalice가 IAM 정책을 자동으로 생성할지 여부를 설정 (디폴트 = True)\n",
    "- False인 경우, `.chalice/policy-<단계 이름>.json`에서 IAM 정책을 로드\n",
    "- `iam_policy_file` 지정으로 불러올 policy 파일명을 변경할 수도 있음"
   ]
  },
  {
   "cell_type": "code",
   "execution_count": 56,
   "id": "0dcf5fed-f12e-4849-91bf-383ea0d1e879",
   "metadata": {},
   "outputs": [
    {
     "name": "stdout",
     "output_type": "stream",
     "text": [
      "Overwriting amzn-reviews/.chalice/config.json\n"
     ]
    }
   ],
   "source": [
    "%%writefile $PROJECT/.chalice/config.json\n",
    "\n",
    "{\n",
    "    \"Version\": \"2.0\",\n",
    "    \"app_name\": \"amzn-reviews\",\n",
    "    \"autogen_policy\": false,\n",
    "    \"automatic_layer\": true,\n",
    "    \"environment_variables\": {\n",
    "        \"ENDPOINT_NAME\": \"MAP-Inference-Endpoint-2023-03-14-02-56-51\"\n",
    "    },\n",
    "    \"stages\": {\n",
    "        \"dev\": {\n",
    "            \"api_gateway_stage\": \"api\"\n",
    "        }    \n",
    "    }\n",
    "\n",
    "}"
   ]
  },
  {
   "cell_type": "markdown",
   "id": "a2997261-53e8-43aa-aaa3-dc1cd8350c56",
   "metadata": {},
   "source": [
    "아래와 같이 Private VPC 환경을 구축할 수도 있습니다."
   ]
  },
  {
   "cell_type": "code",
   "execution_count": 54,
   "id": "f3b65f2f-140c-4cee-8b75-f070e3825c6d",
   "metadata": {},
   "outputs": [],
   "source": [
    "# {\n",
    "#     \"Version\": \"2.0\",\n",
    "#     \"app_name\": \"amzn-reviews\",\n",
    "#     \"autogen_policy\": false,\n",
    "#     \"automatic_layer\": true,\n",
    "#     \"environment_variables\": {\n",
    "#         \"ENDPOINT_NAME\": \"MAP-Inference-Endpoint-2023-03-14-02-56-51\"\n",
    "#     },\n",
    "#     \"stages\": {\n",
    "#         \"dev\": {\n",
    "#             \"api_gateway_stage\": \"api\"\n",
    "#             \"iam_policy_file\": \"policy-dev-1.json\"\n",
    "#             \"subnet_ids\": [\"subnet-xxxxxxxxxxxxxx\", \"subnet-xxxxxxxxxxxxxx\"],\n",
    "#             \"security_group_ids\": [\"sg-xxxxxxxxxxxxxx\"],\n",
    "#         }\n",
    "#     }\n",
    "\n",
    "# }"
   ]
  },
  {
   "cell_type": "markdown",
   "id": "ab3b8632-7a93-41b9-a45d-250fc46c19c5",
   "metadata": {},
   "source": [
    "#### Setup IAM policy"
   ]
  },
  {
   "cell_type": "code",
   "execution_count": 55,
   "id": "72fcc9a6-ebcd-4be5-9566-b6326d859ea7",
   "metadata": {},
   "outputs": [
    {
     "name": "stdout",
     "output_type": "stream",
     "text": [
      "Writing amzn-reviews/.chalice/policy-dev.json\n"
     ]
    }
   ],
   "source": [
    "%%writefile $PROJECT/.chalice/policy-dev.json\n",
    "{\n",
    "    \"Version\": \"2012-10-17\",\n",
    "    \"Statement\": [\n",
    "        {\n",
    "            \"Sid\": \"VisualEditor0\",\n",
    "            \"Effect\": \"Allow\",\n",
    "            \"Action\": [\n",
    "                \"logs:CreateLogStream\",\n",
    "                \"logs:PutLogEvents\",\n",
    "                \"logs:CreateLogGroup\"\n",
    "            ],\n",
    "            \"Resource\": \"arn:aws:logs:*:*:*\"\n",
    "        },\n",
    "        {\n",
    "            \"Sid\": \"VisualEditor1\",\n",
    "            \"Effect\": \"Allow\",\n",
    "            \"Action\": \"sagemaker:InvokeEndpoint\",\n",
    "            \"Resource\": \"*\"\n",
    "        }\n",
    "    ]\n",
    "}"
   ]
  },
  {
   "cell_type": "markdown",
   "id": "2a77a0f7-1dc1-496c-b2be-e3dbbdc33db7",
   "metadata": {},
   "source": [
    "#### app.py"
   ]
  },
  {
   "cell_type": "code",
   "execution_count": 57,
   "id": "daf7fec4-90bf-4a32-8567-3bc95b14c02a",
   "metadata": {},
   "outputs": [
    {
     "name": "stdout",
     "output_type": "stream",
     "text": [
      "Overwriting amzn-reviews/app.py\n"
     ]
    }
   ],
   "source": [
    "%%writefile $PROJECT/app.py \n",
    "import os\n",
    "import io\n",
    "import json\n",
    "import boto3\n",
    "import base64\n",
    "import numpy as np\n",
    "\n",
    "from chalice import Chalice\n",
    "from chalice import BadRequestError\n",
    "\n",
    "app = Chalice(app_name=\"amzn-reviews\")\n",
    "app.debug = True\n",
    "\n",
    "runtime = boto3.client(\"runtime.sagemaker\")\n",
    "\n",
    "@app.route(\"/\")\n",
    "def index():\n",
    "    return {'hello': 'world'}\n",
    "\n",
    "@app.route(\"/variant/{variant_name}\", methods=[\"POST\"])\n",
    "def return_val(variant_name):\n",
    "    body = app.current_request.json_body\n",
    "    if \"data\" not in body:\n",
    "        raise BadRequestError(\"Missing data.\")\n",
    "    if \"ENDPOINT_NAME\" not in os.environ:\n",
    "        raise BadRequestError(\"Missing endpoint.\")\n",
    "\n",
    "    endpoint_name = os.environ[\"ENDPOINT_NAME\"]\n",
    "\n",
    "    array = body['data']\n",
    "    payload = {\"instances\" : array, \"configuration\": {\"k\": 1} }\n",
    "\n",
    "    print(array)\n",
    "\n",
    "    def parse_predictions(results):\n",
    "        return [(result['label'][0] == '__label__Helpful', result['prob'][0]) for result in results]    \n",
    "\n",
    "    try:\n",
    "        response = runtime.invoke_endpoint(\n",
    "            EndpointName = endpoint_name, \n",
    "            TargetVariant = variant_name,\n",
    "            ContentType = 'application/json',                        \n",
    "            Body = json.dumps(payload))\n",
    "        predictions = json.loads(response['Body'].read())            \n",
    "        print(parse_predictions(predictions))\n",
    "        \n",
    "        return {\n",
    "            \"response\": {\n",
    "                \"value\": json.dumps(parse_predictions(predictions))\n",
    "            }\n",
    "        }\n",
    "    except Exception as e:\n",
    "        print(e)\n",
    "        print(payload)\n",
    "    \n"
   ]
  },
  {
   "cell_type": "code",
   "execution_count": 58,
   "id": "13429635-2a26-49a6-9895-16264f3f68a9",
   "metadata": {},
   "outputs": [
    {
     "name": "stdout",
     "output_type": "stream",
     "text": [
      "Overwriting amzn-reviews/requirements.txt\n"
     ]
    }
   ],
   "source": [
    "%%writefile $PROJECT/requirements.txt\n",
    "numpy"
   ]
  },
  {
   "cell_type": "markdown",
   "id": "4711fc89-bc58-44b3-840a-ff12f565a664",
   "metadata": {},
   "source": [
    "### Local Test\n",
    "로컬 환경에서 편리하게 테스트를 수행할 수 있습니다.\n"
   ]
  },
  {
   "cell_type": "code",
   "execution_count": 59,
   "id": "57a9a010-77e6-4801-9bfc-6b16464c53c7",
   "metadata": {},
   "outputs": [
    {
     "name": "stdout",
     "output_type": "stream",
     "text": [
      "Restarting local dev server.\n",
      "Found credentials from IAM Role: BaseNotebookInstanceEc2InstanceRole\n",
      "Serving on http://127.0.0.1:8100\n",
      "['Very bad product. I hate it']\n",
      "[(False, 0.9934085607528687)]\n",
      "127.0.0.1 - - [14/Mar/2023 07:52:27] \"POST /variant/Champion HTTP/1.1\" 200 -\n",
      "^C\n"
     ]
    }
   ],
   "source": [
    "!cd $PROJECT && chalice local --port=8100"
   ]
  },
  {
   "cell_type": "markdown",
   "id": "fdbdf947-78f9-4c47-bade-7aaa1e22b672",
   "metadata": {},
   "source": [
    "```\n",
    "\n",
    "curl -X POST localhost:8100/variant/Champion -H \"Content-Type: application/json\" -d '{\"data\":[\"Very bad product. I hate it\"]}'\n",
    "\n",
    "curl -X POST localhost:8100/variant/Challenger -H \"Content-Type: application/json\" -d '{\"data\":[\"Very bad product. I hate it\"]}'\n",
    "\n",
    "```"
   ]
  },
  {
   "cell_type": "markdown",
   "id": "ba0bfb08-38e6-4bed-97aa-154728b18318",
   "metadata": {},
   "source": [
    "### Deploy"
   ]
  },
  {
   "cell_type": "code",
   "execution_count": 60,
   "id": "9a86f880-339c-4dab-ac5b-5ff512c425d1",
   "metadata": {},
   "outputs": [
    {
     "name": "stdout",
     "output_type": "stream",
     "text": [
      "Creating shared layer deployment package.\n",
      "Creating app deployment package.\n",
      "Creating lambda layer: amzn-reviews-dev-managed-layer\n",
      "Creating IAM role: amzn-reviews-dev-api_handler\n",
      "Creating lambda function: amzn-reviews-dev\n",
      "Creating Rest API\n",
      "Resources deployed:\n",
      "  - Lambda Layer ARN: arn:aws:lambda:us-east-1:143656149352:layer:amzn-reviews-dev-managed-layer:9\n",
      "  - Lambda ARN: arn:aws:lambda:us-east-1:143656149352:function:amzn-reviews-dev\n",
      "  - Rest API URL: https://2mvnqeabm7.execute-api.us-east-1.amazonaws.com/api/\n"
     ]
    }
   ],
   "source": [
    "!cd $PROJECT && chalice deploy"
   ]
  },
  {
   "cell_type": "code",
   "execution_count": 61,
   "id": "15405897-cebe-4933-b9e9-9fc390e00847",
   "metadata": {},
   "outputs": [],
   "source": [
    "from IPython.core.display import display, HTML\n",
    "import boto3\n",
    "client = boto3.client('apigateway')\n",
    "region = boto3.Session().region_name\n",
    "response = client.get_rest_apis(limit=2)\n",
    "restapi_id = response['items'][0]['id']\n",
    "url = f'https://{restapi_id}.execute-api.{region}.amazonaws.com/api/'.replace('\"','')"
   ]
  },
  {
   "cell_type": "code",
   "execution_count": 62,
   "id": "74b31d38-7bb3-4abd-b7a6-0fd942996fc0",
   "metadata": {},
   "outputs": [
    {
     "name": "stdout",
     "output_type": "stream",
     "text": [
      "{\"response\":{\"value\":\"[[false, 0.9934085607528687]]\"}}"
     ]
    }
   ],
   "source": [
    "!curl -X POST https://2mvnqeabm7.execute-api.us-east-1.amazonaws.com/api/variant/Champion \\\n",
    "  -H \"Content-Type: application/json\" \\\n",
    "  -d '{\"data\":[\"Very bad product. I hate it\"]}'"
   ]
  },
  {
   "cell_type": "code",
   "execution_count": 63,
   "id": "17aaf3c7-b2e5-4568-a601-bc297e99bacf",
   "metadata": {},
   "outputs": [
    {
     "name": "stdout",
     "output_type": "stream",
     "text": [
      "{\"response\":{\"value\":\"[[false, 0.9977796077728271]]\"}}"
     ]
    }
   ],
   "source": [
    "!curl -X POST https://2mvnqeabm7.execute-api.us-east-1.amazonaws.com/api/variant/Challenger \\\n",
    "  -H \"Content-Type: application/json\" \\\n",
    "  -d '{\"data\":[\"Very bad product. I hate it\"]}'"
   ]
  },
  {
   "cell_type": "code",
   "execution_count": 66,
   "id": "ae54772d-70e4-4701-85a8-9b904f6757cc",
   "metadata": {},
   "outputs": [],
   "source": [
    "!cd $PROJECT && chalice delete"
   ]
  }
 ],
 "metadata": {
  "kernelspec": {
   "display_name": "conda_python3",
   "language": "python",
   "name": "conda_python3"
  },
  "language_info": {
   "codemirror_mode": {
    "name": "ipython",
    "version": 3
   },
   "file_extension": ".py",
   "mimetype": "text/x-python",
   "name": "python",
   "nbconvert_exporter": "python",
   "pygments_lexer": "ipython3",
   "version": "3.8.12"
  }
 },
 "nbformat": 4,
 "nbformat_minor": 5
}
