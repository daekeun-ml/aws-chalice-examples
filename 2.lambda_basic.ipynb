{
 "cells": [
  {
   "cell_type": "markdown",
   "id": "3f44a5f8-7b3f-4bdb-8b9f-da7e2eaf955c",
   "metadata": {},
   "source": [
    "# Module 2. Using AWS Lambda Layers\n",
    "---\n"
   ]
  },
  {
   "cell_type": "markdown",
   "id": "58289f66-de2e-42ad-8724-982fdb66f3eb",
   "metadata": {},
   "source": [
    "## Lambda Layer"
   ]
  },
  {
   "cell_type": "code",
   "execution_count": null,
   "id": "2d0793f8-1dbe-40a3-a1fa-0a8ebfe94696",
   "metadata": {},
   "outputs": [],
   "source": [
    "PROJECT_LAYER = \"layerapp\"\n",
    "!rm -rf $PROJECT_LAYER\n",
    "!chalice new-project $PROJECT_LAYER"
   ]
  },
  {
   "cell_type": "code",
   "execution_count": null,
   "id": "d7fa29a8-f070-4064-b25d-35b67cca195b",
   "metadata": {},
   "outputs": [],
   "source": [
    "!tree -a $PROJECT_LAYER/."
   ]
  },
  {
   "cell_type": "code",
   "execution_count": null,
   "id": "7c157ac9-b008-4327-bb5d-a66200b35a95",
   "metadata": {},
   "outputs": [],
   "source": [
    "%%writefile $PROJECT_LAYER/.chalice/config.json\n",
    "{\n",
    "  \"version\": \"2.0\",\n",
    "  \"app_name\": \"layerapp\",\n",
    "  \"automatic_layer\": true,\n",
    "  \"stages\": {\n",
    "    \"dev\": {\n",
    "      \"api_gateway_stage\": \"api\"\n",
    "    }\n",
    "  }\n",
    "}"
   ]
  },
  {
   "cell_type": "code",
   "execution_count": null,
   "id": "ec5c08af-d85b-40e4-83a7-ac1da4276b8d",
   "metadata": {},
   "outputs": [],
   "source": [
    "%%writefile $PROJECT_LAYER/app.py\n",
    "\n",
    "from chalice import Chalice\n",
    "app = Chalice(app_name='layerapp')\n",
    "\n",
    "@app.lambda_function()\n",
    "def boto3_import(event, context):\n",
    "    import boto3\n",
    "    user_name = event.get('user_name')\n",
    "    return {'boto3': boto3.__file__, 'user_name': user_name}\n",
    "\n",
    "@app.lambda_function()\n",
    "def pandas_import(event, context):\n",
    "    import pandas\n",
    "    user_name = event.get('user_name')    \n",
    "    return {'pandas': pandas.__file__, 'user_name': user_name}"
   ]
  },
  {
   "cell_type": "code",
   "execution_count": null,
   "id": "220449b5-0339-4119-989e-7d8744883959",
   "metadata": {},
   "outputs": [],
   "source": [
    "%%writefile $PROJECT_LAYER/requirements.txt\n",
    "boto3==1.26.91\n",
    "pandas==1.2.4"
   ]
  },
  {
   "cell_type": "code",
   "execution_count": null,
   "id": "5bfd28a4-f83f-4792-b84d-65190a691904",
   "metadata": {},
   "outputs": [],
   "source": [
    "!cd $PROJECT_LAYER && chalice deploy"
   ]
  },
  {
   "cell_type": "markdown",
   "id": "2243992c-25b9-484e-8232-e02e32a9772d",
   "metadata": {},
   "source": [
    "AWS 콘솔에서 배포된 람다 함수를 확인합니다."
   ]
  },
  {
   "cell_type": "code",
   "execution_count": null,
   "id": "b034995e-9ec9-4bc1-af1a-849b740f89ba",
   "metadata": {},
   "outputs": [],
   "source": [
    "from IPython.core.display import display, HTML\n",
    "import boto3\n",
    "region = boto3.Session().region_name\n",
    "def make_lambda_console_link(region, func_name):\n",
    "    link = f'<b><a target=\"blank\" href=\"https://{region}.console.aws.amazon.com/lambda/home?region={region}#/functions/{func_name}?tab=code\">Check Lambda function: {func_name}</a></b>'   \n",
    "    return link  \n",
    "\n",
    "func_name = f\"{PROJECT_LAYER}-dev-boto3_import\"        \n",
    "link = make_lambda_console_link(region, func_name)\n",
    "display(HTML(link))\n",
    "\n",
    "func_name = f\"{PROJECT_LAYER}-dev-pandas_import\"        \n",
    "link = make_lambda_console_link(region, func_name)\n",
    "display(HTML(link))"
   ]
  },
  {
   "cell_type": "markdown",
   "id": "c00c1eee-70c3-4a2d-bd05-522fd417f523",
   "metadata": {},
   "source": [
    "invoke 커맨드로 람다 함수를 테스트합니다."
   ]
  },
  {
   "cell_type": "code",
   "execution_count": null,
   "id": "3739c556-7fe3-4324-b39b-c9cb49e20208",
   "metadata": {},
   "outputs": [],
   "source": [
    "%%bash -s \"$PROJECT_LAYER\"\n",
    "cd $1\n",
    "\n",
    "echo '{\"user_name\": \"daekeun\"}' | chalice invoke -n boto3_import\n",
    "echo '{\"user_name\": \"gildong\"}' | chalice invoke -n boto3_import\n",
    "\n",
    "echo '{\"user_name\": \"daekeun\"}' | chalice invoke -n pandas_import\n",
    "echo '{\"user_name\": \"gildong\"}' | chalice invoke -n pandas_import"
   ]
  },
  {
   "cell_type": "markdown",
   "id": "9d8f8817-59ad-4baf-97a4-83d3d5b55e56",
   "metadata": {},
   "source": [
    "## Reuse Layer"
   ]
  },
  {
   "cell_type": "markdown",
   "id": "6708e85e-a105-46ed-a9f4-1d573dea1c4f",
   "metadata": {},
   "source": [
    "람다 레이어를 재사용하려면 `.chalice/config.json` 파일에 레이어 구성 옵션을 추가합니다. (`'layers': [YOUR-LAYER-ARN`)"
   ]
  },
  {
   "cell_type": "code",
   "execution_count": null,
   "id": "5e64b3cb-41c0-420f-bf73-275bed7e96f5",
   "metadata": {},
   "outputs": [],
   "source": [
    "PROJECT_REUSE = \"reuse-layer\"\n",
    "!rm -rf $PROJECT_REUSE\n",
    "!chalice new-project $PROJECT_REUSE"
   ]
  },
  {
   "cell_type": "code",
   "execution_count": null,
   "id": "adb38e03-b78e-40eb-bd58-1b76dd002242",
   "metadata": {},
   "outputs": [],
   "source": [
    "client = boto3.client('lambda')\n",
    "response = client.get_function(\n",
    "    FunctionName='layerapp-dev-boto3_import',\n",
    ")\n",
    "layer_arn = response['Configuration']['Layers'][0]['Arn']\n",
    "print(layer_arn)"
   ]
  },
  {
   "cell_type": "markdown",
   "id": "da3a0526-e5d4-46a2-867d-0e93f4a008a7",
   "metadata": {},
   "source": [
    "위 셀의 결과를 붙여넣기하거나 앞 섹션에서 chalice deploy 커맨드의 출력값 중 lambda layer arn을 붙여넣기합니다.\n",
    "\n",
    "```\n",
    "Resources deployed:\n",
    "  - Lambda Layer ARN: arn:aws:lambda:us-east-1:123456789123:layer:layerapp-dev-managed-layer:1\n",
    "  - Lambda ARN: arn:aws:lambda:us-east-1:123456789123:function:layerapp-dev-boto3_import\n",
    "  - Lambda ARN: arn:aws:lambda:us-east-1:123456789123:function:layerapp-dev-pandas_import\n",
    "```"
   ]
  },
  {
   "cell_type": "code",
   "execution_count": null,
   "id": "426ec321-1e7f-4cd5-8d5c-d6ef642f2677",
   "metadata": {},
   "outputs": [],
   "source": [
    "%%writefile $PROJECT_REUSE/.chalice/config.json\n",
    "{\n",
    "  \"version\": \"2.0\",\n",
    "  \"app_name\": \"reuse-layer\",\n",
    "  \"layers\": [\"YOUR-LAYER-ARN\"],\n",
    "  \"stages\": {\n",
    "    \"dev\": {\n",
    "      \"api_gateway_stage\": \"api\"\n",
    "    }\n",
    "  }\n",
    "}"
   ]
  },
  {
   "cell_type": "code",
   "execution_count": null,
   "id": "cea733dc-0023-4a0c-b398-235688aebc65",
   "metadata": {},
   "outputs": [],
   "source": [
    "%%writefile $PROJECT_REUSE/app.py\n",
    "\n",
    "from chalice import Chalice\n",
    "app = Chalice(app_name='reuse-layer')\n",
    "\n",
    "@app.lambda_function()\n",
    "def pandas_import_reuse(event, context):\n",
    "    import pandas\n",
    "    user_name = event.get('user_name')\n",
    "    return {'pandas': pandas.__file__, 'user_name': user_name}"
   ]
  },
  {
   "cell_type": "code",
   "execution_count": null,
   "id": "76f9ff08-3753-4ef8-b3a6-29e522321c24",
   "metadata": {},
   "outputs": [],
   "source": [
    "!cd $PROJECT_REUSE && chalice deploy"
   ]
  },
  {
   "cell_type": "code",
   "execution_count": null,
   "id": "2df9907d-a336-4c14-869d-56146812315d",
   "metadata": {},
   "outputs": [],
   "source": [
    "%%bash -s \"$PROJECT_REUSE\"\n",
    "cd $1\n",
    "\n",
    "echo '{\"user_name\": \"daekeun\"}' | chalice invoke -n pandas_import_reuse\n",
    "echo '{\"user_name\": \"gildong\"}' | chalice invoke -n pandas_import_reuse\n"
   ]
  },
  {
   "cell_type": "code",
   "execution_count": null,
   "id": "6c14def7-5cac-4193-8141-239b93af96ef",
   "metadata": {},
   "outputs": [],
   "source": [
    "!du -hs $PROJECT_LAYER/.chalice/deployments/*\n",
    "!du -hs $PROJECT_REUSE/.chalice/deployments/*"
   ]
  },
  {
   "cell_type": "code",
   "execution_count": null,
   "id": "96f3a794-a10a-4c68-9acc-a0be7ccb0512",
   "metadata": {},
   "outputs": [],
   "source": [
    "!cd $PROJECT_LAYER && chalice delete\n",
    "!cd $PROJECT_REUSE && chalice delete"
   ]
  }
 ],
 "metadata": {
  "kernelspec": {
   "display_name": "conda_python3",
   "language": "python",
   "name": "conda_python3"
  },
  "language_info": {
   "codemirror_mode": {
    "name": "ipython",
    "version": 3
   },
   "file_extension": ".py",
   "mimetype": "text/x-python",
   "name": "python",
   "nbconvert_exporter": "python",
   "pygments_lexer": "ipython3",
   "version": "3.8.12"
  }
 },
 "nbformat": 4,
 "nbformat_minor": 5
}
